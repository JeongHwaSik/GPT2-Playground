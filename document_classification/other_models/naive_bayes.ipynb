{
 "cells": [
  {
   "cell_type": "code",
   "id": "37b4d708b4fbae5b",
   "metadata": {
    "ExecuteTime": {
     "end_time": "2024-12-20T04:41:28.502473Z",
     "start_time": "2024-12-20T04:41:28.468615Z"
    }
   },
   "source": [
    "%load_ext autoreload\n",
    "%autoreload 2"
   ],
   "outputs": [],
   "execution_count": 1
  },
  {
   "cell_type": "markdown",
   "id": "abf0983662a67b54",
   "metadata": {},
   "source": [
    "# Load Dataset"
   ]
  },
  {
   "cell_type": "code",
   "id": "bbd2345518ca939b",
   "metadata": {
    "ExecuteTime": {
     "end_time": "2024-12-20T04:42:23.916117Z",
     "start_time": "2024-12-20T04:41:28.504288Z"
    }
   },
   "source": [
    "import json\n",
    "import nltk\n",
    "from sklearn.model_selection import train_test_split\n",
    "\n",
    "# load dataset & get all unique words in the category\n",
    "total_dataset = []\n",
    "with open(\"News_Category_Dataset_v3.json\") as f:\n",
    "  for data in f:\n",
    "    total_dataset.append(json.loads(data))\n",
    "      \n",
    "stemmer = nltk.SnowballStemmer(\"english\")\n",
    "x = []\n",
    "for d in total_dataset:\n",
    "    text = f\"{d['headline']} {d['short_description']}\".lower()\n",
    "    text = \" \".join(stemmer.stem(word) for word in text.split(\" \"))\n",
    "    x.append(text)\n",
    "y = [d['category'] for d in total_dataset]\n",
    "\n",
    "x_train, x_val, y_train, y_val = train_test_split(x, y, test_size=0.2)\n",
    "print(f\"Training Samples: {len(x_train)}\")\n",
    "print(f\"Validation Samples: {len(x_val)}\")\n",
    "print(f\"Categories: {len(set(y_train))}\")"
   ],
   "outputs": [
    {
     "name": "stdout",
     "output_type": "stream",
     "text": [
      "Training Samples: 167621\n",
      "Validation Samples: 41906\n",
      "Categories: 42\n"
     ]
    }
   ],
   "execution_count": 2
  },
  {
   "cell_type": "markdown",
   "id": "c47853da8b6d35b0",
   "metadata": {},
   "source": "# Naive Bayes Classifier"
  },
  {
   "cell_type": "markdown",
   "id": "8fa3dc1c6dce54da",
   "metadata": {},
   "source": [
    "### Training"
   ]
  },
  {
   "cell_type": "code",
   "id": "2bfaddda04d472cf",
   "metadata": {
    "ExecuteTime": {
     "end_time": "2024-12-20T04:42:27.050876Z",
     "start_time": "2024-12-20T04:42:23.918224Z"
    }
   },
   "source": [
    "from collections import defaultdict\n",
    "\n",
    "# Training priors: log P(c)\n",
    "all_cats = list(set(y_train))\n",
    "prior = {cat: 0 for cat in all_cats}\n",
    "for cat in y_train:\n",
    "    prior[cat] += 1\n",
    "# Convert to log space\n",
    "for cat in prior:\n",
    "    prior[cat] = prior[cat] / len(y_train)\n",
    "\n",
    "# Create vocabulary and initialize likelihoods with Laplace smoothing\n",
    "vocabulary = set()\n",
    "for text in x_train:\n",
    "    vocabulary.update(text.split())\n",
    "print(len(vocabulary))\n",
    "\n",
    "# Training likelihoods: log P(d|c)\n",
    "likelihood = {cat: defaultdict(lambda: 1) for cat in all_cats}  # Laplace smoothing\n",
    "word_counts = {cat: len(vocabulary) for cat in all_cats}  # Initialize counts with smoothing\n",
    "\n",
    "# Count occurrences\n",
    "for text, cat in zip(x_train, y_train):\n",
    "    for word in text.split():\n",
    "        likelihood[cat][word] += 1\n",
    "        word_counts[cat] += 1\n",
    "\n",
    "# Convert to log probabilities\n",
    "for cat in likelihood:\n",
    "    for word in likelihood[cat]:\n",
    "        likelihood[cat][word] = likelihood[cat][word] / word_counts[cat]"
   ],
   "outputs": [
    {
     "name": "stdout",
     "output_type": "stream",
     "text": [
      "171330\n"
     ]
    }
   ],
   "execution_count": 3
  },
  {
   "metadata": {
    "ExecuteTime": {
     "end_time": "2024-12-20T10:45:47.197663Z",
     "start_time": "2024-12-20T10:45:47.146388Z"
    }
   },
   "cell_type": "code",
   "source": [
    "params = len(prior) + len(vocabulary) + len(likelihood)\n",
    "\n",
    "print(f\"Number of Parameters: {params}\")"
   ],
   "id": "1564b36045d7eb4",
   "outputs": [
    {
     "name": "stdout",
     "output_type": "stream",
     "text": [
      "Number of Parameters: 171414\n"
     ]
    }
   ],
   "execution_count": 5
  },
  {
   "cell_type": "markdown",
   "id": "6e427d54aa6a8736",
   "metadata": {},
   "source": [
    "### Testing"
   ]
  },
  {
   "cell_type": "code",
   "id": "c6a9dc43c959fcbe",
   "metadata": {
    "ExecuteTime": {
     "end_time": "2024-12-20T04:42:59.511890Z",
     "start_time": "2024-12-20T04:42:27.052662Z"
    }
   },
   "source": [
    "import math\n",
    "\n",
    "pred = []\n",
    "for val_text in x_val:\n",
    "    # Initialize log probabilities with priors for each category\n",
    "    log_probs = {cat: math.log(prior[cat]) for cat in all_cats}\n",
    "    \n",
    "    # Add log likelihoods for each word\n",
    "    for word in val_text.split():\n",
    "        for cat in all_cats:\n",
    "            # Skip if word not in vocabulary (handled by smoothing during training)\n",
    "            if word in likelihood[cat]:\n",
    "                log_probs[cat] += math.log(likelihood[cat][word]) # Already in log space\n",
    "            else:\n",
    "                log_probs[cat] += math.log(1.0/len(vocabulary)) # Already in log space \n",
    "    \n",
    "    # Get category with highest probability\n",
    "    pred.append(max(log_probs, key=log_probs.get))\n",
    "\n",
    "# Calculate accuracy\n",
    "accuracy = sum(1 for p, y in zip(pred, y_val) if p == y) / len(y_val)\n",
    "print(f\"Naive Bayes Classifier Accuracy: {accuracy * 100:.2f}%\")"
   ],
   "outputs": [
    {
     "name": "stdout",
     "output_type": "stream",
     "text": [
      "Naive Bayes Classifier Accuracy: 43.99%\n"
     ]
    }
   ],
   "execution_count": 4
  }
 ],
 "metadata": {
  "kernelspec": {
   "display_name": "Python 3",
   "language": "python",
   "name": "python3"
  },
  "language_info": {
   "codemirror_mode": {
    "name": "ipython",
    "version": 3
   },
   "file_extension": ".py",
   "mimetype": "text/x-python",
   "name": "python",
   "nbconvert_exporter": "python",
   "pygments_lexer": "ipython3",
   "version": "3.9.13"
  }
 },
 "nbformat": 4,
 "nbformat_minor": 5
}
